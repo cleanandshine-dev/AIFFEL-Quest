{
  "nbformat": 4,
  "nbformat_minor": 0,
  "metadata": {
    "colab": {
      "provenance": [],
      "gpuType": "T4"
    },
    "kernelspec": {
      "name": "python3",
      "display_name": "Python 3"
    },
    "language_info": {
      "name": "python"
    },
    "accelerator": "GPU"
  },
  "cells": [
    {
      "cell_type": "markdown",
      "source": [
        "# **뉴스 카테고리 다중분류 프로젝트**\n",
        "\n",
        "## 순서\n",
        "- 평가기준\n",
        "- 필요한 라이브러리 불러오기\n",
        "- 데이터 불러오기 및 탐색\n",
        "- 텍스트 데이터로 변환 후 벡터화하기\n",
        "- 머신러닝 모델 성능비교\n",
        "- 딥러닝 모델 성능비교"
      ],
      "metadata": {
        "id": "3qwsg-1613FW"
      }
    },
    {
      "cell_type": "markdown",
      "source": [
        "# 평가 기준"
      ],
      "metadata": {
        "id": "fATyucQK11B4"
      }
    },
    {
      "cell_type": "markdown",
      "source": [
        "1. 분류 모델의 accuracy가 기준 이상 높게 나왔는가?\n",
        "  - 3가지 단어 개수에 대해 8가지 머신러닝 기법을 적용하여 그중 최적의 솔루션을 도출하였다.\n",
        "2. 분류 모델의 F1 score가 기준 이상 높게 나왔는가?\n",
        "  - Vocabulary size에 따른 각 머신러닝 모델의 성능변화 추이를 살피고, 해당 머신러닝 알고리즘의 특성에 근거해 원인을 분석하였다.\n",
        "3. 딥러닝 모델을 활용해 성능이 비교 및 확인되었는가?\n",
        "  - 동일한 데이터셋과 전처리 조건으로 딥러닝 모델의 성능과 비교하여 결과에 따른 원인을 분석하였다."
      ],
      "metadata": {
        "id": "yCxTRqKzth4k"
      }
    },
    {
      "cell_type": "markdown",
      "source": [
        "# 필요한 라이브러리 불러오기\n",
        "---\n",
        "- 데이터를 불러오는 것부터 성능평가까지 필요한 라이브러리를 불러온다."
      ],
      "metadata": {
        "id": "Eh5zBJRe0CML"
      }
    },
    {
      "cell_type": "code",
      "source": [
        "# 데이터 로드 라이브러리\n",
        "from tensorflow.keras.datasets import reuters\n",
        "\n",
        "# 기본적인 시각화와 전처리 라이브러리\n",
        "import matplotlib.pyplot as plt\n",
        "import seaborn as sns\n",
        "import numpy as np\n",
        "import pandas as pd\n",
        "\n",
        "# 단어 벡터화\n",
        "from sklearn.feature_extraction.text import CountVectorizer\n",
        "from sklearn.feature_extraction.text import TfidfTransformer\n",
        "\n",
        "# 머신러닝 모델\n",
        "from sklearn.naive_bayes import MultinomialNB\n",
        "from sklearn.svm import LinearSVC, SVC\n",
        "from sklearn.linear_model import LogisticRegression, SGDClassifier\n",
        "from sklearn.naive_bayes import ComplementNB\n",
        "from sklearn.tree import DecisionTreeClassifier\n",
        "from sklearn.ensemble import RandomForestClassifier\n",
        "from sklearn.ensemble import GradientBoostingClassifier\n",
        "from sklearn.ensemble import VotingClassifier\n",
        "\n",
        "from joblib import Parallel, delayed  # 병렬 처리용 라이브러리\n",
        "\n",
        "# 모델 평가\n",
        "from sklearn.metrics import accuracy_score, precision_score, recall_score, f1_score\n",
        "from sklearn.metrics import classification_report\n",
        "from sklearn.metrics import confusion_matrix"
      ],
      "metadata": {
        "id": "9CSKLuhs0UXC"
      },
      "execution_count": 1,
      "outputs": []
    },
    {
      "cell_type": "markdown",
      "source": [
        "# 데이터 불러오기 및 탐색\n",
        "- reuter 뉴스 데이터를 사용한다. 해당 데이터는 46개의 클래스(주제)로 구성되며, 해당 뉴스가 어느 카테고리에 속하는지를 예측하기 위한 데이터이다.\n",
        "\n",
        "- **3가지 데이터셋**을 사용하여 성능을 비교하려고 한다.\n",
        "  1. 모든 단어 사용\n",
        "  2. 빈도수 상위 50% 단어 사용\n",
        "  3. 빈도수 상위 5000개 단어 사용\n",
        "\n",
        "- 데이터를 불러올 때, 80%를 훈련데이터, 20%를 테스트 데이터로 사용하려고 한다."
      ],
      "metadata": {
        "id": "ZhsfJMQg0VqT"
      }
    },
    {
      "cell_type": "code",
      "source": [
        "# 데이터 불러오기 - 모든 단어를 사용\n",
        "(x_train_all, y_train_all), (x_test_all, y_test_all) = reuters.load_data(num_words=None,\n",
        "                                                                         test_split=0.2)"
      ],
      "metadata": {
        "id": "mbCDjdK50YDV",
        "outputId": "a4dd5683-c2ad-4376-ab6f-ef3e0478d5d6",
        "colab": {
          "base_uri": "https://localhost:8080/"
        }
      },
      "execution_count": 2,
      "outputs": [
        {
          "output_type": "stream",
          "name": "stdout",
          "text": [
            "Downloading data from https://storage.googleapis.com/tensorflow/tf-keras-datasets/reuters.npz\n",
            "\u001b[1m2110848/2110848\u001b[0m \u001b[32m━━━━━━━━━━━━━━━━━━━━\u001b[0m\u001b[37m\u001b[0m \u001b[1m0s\u001b[0m 0us/step\n"
          ]
        }
      ]
    },
    {
      "cell_type": "markdown",
      "source": [
        "- 단어 빈도수가 상위 50%이상인 단어의 개수를 확인하기 위해 단어인덱스를 불러온다."
      ],
      "metadata": {
        "id": "iuqa81mYcrY4"
      }
    },
    {
      "cell_type": "code",
      "source": [
        "# 단어 인덱스의 개수 확인\n",
        "word_index = reuters.get_word_index(path=\"reuters_word_index.json\")\n",
        "print(f'단어인덱스의 길이: {len(word_index)}')"
      ],
      "metadata": {
        "colab": {
          "base_uri": "https://localhost:8080/"
        },
        "id": "fAmykInYb_Kz",
        "outputId": "05a45794-3856-4897-84d1-d636668d1fd2"
      },
      "execution_count": 3,
      "outputs": [
        {
          "output_type": "stream",
          "name": "stdout",
          "text": [
            "Downloading data from https://storage.googleapis.com/tensorflow/tf-keras-datasets/reuters_word_index.json\n",
            "\u001b[1m550378/550378\u001b[0m \u001b[32m━━━━━━━━━━━━━━━━━━━━\u001b[0m\u001b[37m\u001b[0m \u001b[1m0s\u001b[0m 0us/step\n",
            "단어인덱스의 길이: 30979\n"
          ]
        }
      ]
    },
    {
      "cell_type": "code",
      "source": [
        "# 데이터 불러오기 - 빈도수 상위 50%단어 사용\n",
        "\n",
        "# 사용할 단어 인덱스 개수\n",
        "words_50p = int(len(word_index)/2)\n",
        "print(f'사용할 단어 수: {words_50p}')\n",
        "\n",
        "(x_train_50p, y_train_50p), (x_test_50p, y_test_50p) = reuters.load_data(num_words=words_50p,\n",
        "                                                                         test_split=0.2)"
      ],
      "metadata": {
        "colab": {
          "base_uri": "https://localhost:8080/"
        },
        "id": "fQ4WI7ad0ajy",
        "outputId": "876bd361-8816-4c98-d00f-577010329d26"
      },
      "execution_count": 4,
      "outputs": [
        {
          "output_type": "stream",
          "name": "stdout",
          "text": [
            "사용할 단어 수: 15489\n"
          ]
        }
      ]
    },
    {
      "cell_type": "code",
      "source": [
        "# 데이터 불러오기 - 빈도수 상위 5000개 단어 사용\n",
        "(x_train_5t, y_train_5t), (x_test_5t, y_test_5t) = reuters.load_data(num_words=5000,\n",
        "                                                                    test_split=0.2)"
      ],
      "metadata": {
        "id": "7K9TDq1X0at8"
      },
      "execution_count": 5,
      "outputs": []
    },
    {
      "cell_type": "markdown",
      "source": [
        "- 샘플 수를 출력해본다. 모든 데이터셋의 훈련 데이터와 테스트데이터의 개수는 같으므로, 모든 단어를 불러온 데이터셋에 대해서만 출력했다."
      ],
      "metadata": {
        "id": "dl-kafjlbOqT"
      }
    },
    {
      "cell_type": "code",
      "source": [
        "# 샘플 수\n",
        "print('훈련 샘플의 수: {}'.format(len(x_train_all)))\n",
        "print('테스트 샘플의 수: {}'.format(len(x_test_all)))"
      ],
      "metadata": {
        "colab": {
          "base_uri": "https://localhost:8080/"
        },
        "id": "63Da5lA8bOZN",
        "outputId": "45dd9d74-a717-41b9-9ea4-90d34dad7dbe"
      },
      "execution_count": 6,
      "outputs": [
        {
          "output_type": "stream",
          "name": "stdout",
          "text": [
            "훈련 샘플의 수: 8982\n",
            "테스트 샘플의 수: 2246\n"
          ]
        }
      ]
    },
    {
      "cell_type": "markdown",
      "source": [
        "## 데이터의 분포 확인해보기\n",
        "---\n",
        "- 불러온 데이터(뉴스)의 길이의 분포를 확인해본다.\n",
        "- 위와 마찬가지로 모든 데이터셋의 크기는 같으므로, `x_train_all`, `y_train_all`에 대해서만 확인해본다."
      ],
      "metadata": {
        "id": "mPBhgmDg0a3b"
      }
    },
    {
      "cell_type": "code",
      "source": [
        "# 뉴스 데이터의 길이 분포\n",
        "print('뉴스텍스트(훈련)의 최대 길이 :{}'.format(max(len(l) for l in x_train_all)))\n",
        "print('뉴스텍스트(훈련)의 중간 길이 :{}'.format(np.median([len(l) for l in x_train_all])))\n",
        "print('뉴스텍스트(훈련)의 평균 길이 :{}'.format(sum(map(len, x_train_all))/len(x_train_all)))\n",
        "\n",
        "plt.hist([len(s) for s in x_train_all], bins=50)\n",
        "plt.xlabel('length of samples')\n",
        "plt.ylabel('number of samples')\n",
        "plt.show()"
      ],
      "metadata": {
        "colab": {
          "base_uri": "https://localhost:8080/",
          "height": 501
        },
        "id": "BNnqmE0i0bBb",
        "outputId": "3c403274-ffc4-45e4-97a5-112e89add36d"
      },
      "execution_count": 7,
      "outputs": [
        {
          "output_type": "stream",
          "name": "stdout",
          "text": [
            "뉴스텍스트(훈련)의 최대 길이 :2376\n",
            "뉴스텍스트(훈련)의 중간 길이 :95.0\n",
            "뉴스텍스트(훈련)의 평균 길이 :145.5398574927633\n"
          ]
        },
        {
          "output_type": "display_data",
          "data": {
            "text/plain": [
              "<Figure size 640x480 with 1 Axes>"
            ],
            "image/png": "[encoded data removed]"
          },
          "metadata": {}
        }
      ]
    },
    {
      "cell_type": "markdown",
      "source": [
        "- 훈련데이터의 분포가 right-skew된 형태를 가진다.\n",
        "  - 길이가 짧은 데이터에 대해서는 주제에 대한 단서를 얻기 어려울 수 있지 않을까?\n",
        "  - 긴 텍스트의 길이를 가진 데이터들로 인해 희소행렬이 발생하면서 모델 성능의 저하가 오지 않을까?"
      ],
      "metadata": {
        "id": "W4GB9EsAf4Jk"
      }
    },
    {
      "cell_type": "code",
      "source": [
        "# 클래스의 분포를 확인\n",
        "fig, axe = plt.subplots(2, 1)\n",
        "fig.set_size_inches(11,5)\n",
        "sns.countplot(x=y_train_all, palette=\"flare\", hue=y_train_all, legend=False, ax=axe[0])\n",
        "sns.countplot(x=y_train_all, palette=\"flare\", hue=y_train_all, legend=False, ax=axe[1], stat = 'percent')\n",
        "plt.show()"
      ],
      "metadata": {
        "colab": {
          "base_uri": "https://localhost:8080/",
          "height": 399
        },
        "id": "3xYD2wan0bLD",
        "outputId": "05c4897c-6b89-4813-8464-3698507fef87"
      },
      "execution_count": 8,
      "outputs": [
        {
          "output_type": "display_data",
          "data": {
            "text/plain": [
              "<Figure size 1100x500 with 2 Axes>"
            ],
            "image/png": "[encoded data removed]"
          },
          "metadata": {}
        }
      ]
    },
    {
      "cell_type": "code",
      "source": [
        "# 각 클래스의 빈도수를 표로 나타내기\n",
        "unique_elements, counts_elements = np.unique(y_train_all, return_counts=True)\n",
        "print(\"각 클래스 빈도수:\")\n",
        "pd.set_option(\"display.max_columns\", 50)\n",
        "pd.DataFrame([np.round(counts_elements/sum(counts_elements), 4)],\n",
        "             columns = unique_elements)"
      ],
      "metadata": {
        "colab": {
          "base_uri": "https://localhost:8080/",
          "height": 118
        },
        "id": "bfj8CD0q0bc6",
        "outputId": "c3b04edc-24b2-47eb-ac5d-7b87b823d000"
      },
      "execution_count": 9,
      "outputs": [
        {
          "output_type": "stream",
          "name": "stdout",
          "text": [
            "각 클래스 빈도수:\n"
          ]
        },
        {
          "output_type": "execute_result",
          "data": {
            "text/plain": [
              "       0       1       2       3      4       5       6       7       8   \\\n",
              "0  0.0061  0.0481  0.0082  0.3517  0.217  0.0019  0.0053  0.0018  0.0155   \n",
              "\n",
              "       9       10      11      12      13      14      15      16      17  \\\n",
              "0  0.0112  0.0138  0.0434  0.0055  0.0191  0.0029  0.0022  0.0494  0.0043   \n",
              "\n",
              "       18      19      20      21      22      23      24      25      26  \\\n",
              "0  0.0073  0.0611  0.0299  0.0111  0.0017  0.0046  0.0069  0.0102  0.0027   \n",
              "\n",
              "       27      28      29     30      31      32      33      34      35  \\\n",
              "0  0.0017  0.0053  0.0021  0.005  0.0043  0.0036  0.0012  0.0056  0.0011   \n",
              "\n",
              "       36      37      38      39     40      41      42      43      44  \\\n",
              "0  0.0055  0.0021  0.0021  0.0027  0.004  0.0033  0.0014  0.0023  0.0013   \n",
              "\n",
              "      45  \n",
              "0  0.002  "
            ],
            "text/html": [
              "\n",
              "  <div id=\"df-4a6b5076-7484-4440-9de4-d13ea617c231\" class=\"colab-df-container\">\n",
              "    <div>\n",
              "<style scoped>\n",
              "    .dataframe tbody tr th:only-of-type {\n",
              "        vertical-align: middle;\n",
              "    }\n",
              "\n",
              "    .dataframe tbody tr th {\n",
              "        vertical-align: top;\n",
              "    }\n",
              "\n",
              "    .dataframe thead th {\n",
              "        text-align: right;\n",
              "    }\n",
              "</style>\n",
              "<table border=\"1\" class=\"dataframe\">\n",
              "  <thead>\n",
              "    <tr style=\"text-align: right;\">\n",
              "      <th></th>\n",
              "      <th>0</th>\n",
              "      <th>1</th>\n",
              "      <th>2</th>\n",
              "      <th>3</th>\n",
              "      <th>4</th>\n",
              "      <th>5</th>\n",
              "      <th>6</th>\n",
              "      <th>7</th>\n",
              "      <th>8</th>\n",
              "      <th>9</th>\n",
              "      <th>10</th>\n",
              "      <th>11</th>\n",
              "      <th>12</th>\n",
              "      <th>13</th>\n",
              "      <th>14</th>\n",
              "      <th>15</th>\n",
              "      <th>16</th>\n",
              "      <th>17</th>\n",
              "      <th>18</th>\n",
              "      <th>19</th>\n",
              "      <th>20</th>\n",
              "      <th>21</th>\n",
              "      <th>22</th>\n",
              "      <th>23</th>\n",
              "      <th>24</th>\n",
              "      <th>25</th>\n",
              "      <th>26</th>\n",
              "      <th>27</th>\n",
              "      <th>28</th>\n",
              "      <th>29</th>\n",
              "      <th>30</th>\n",
              "      <th>31</th>\n",
              "      <th>32</th>\n",
              "      <th>33</th>\n",
              "      <th>34</th>\n",
              "      <th>35</th>\n",
              "      <th>36</th>\n",
              "      <th>37</th>\n",
              "      <th>38</th>\n",
              "      <th>39</th>\n",
              "      <th>40</th>\n",
              "      <th>41</th>\n",
              "      <th>42</th>\n",
              "      <th>43</th>\n",
              "      <th>44</th>\n",
              "      <th>45</th>\n",
              "    </tr>\n",
              "  </thead>\n",
              "  <tbody>\n",
              "    <tr>\n",
              "      <th>0</th>\n",
              "      <td>0.0061</td>\n",
              "      <td>0.0481</td>\n",
              "      <td>0.0082</td>\n",
              "      <td>0.3517</td>\n",
              "      <td>0.217</td>\n",
              "      <td>0.0019</td>\n",
              "      <td>0.0053</td>\n",
              "      <td>0.0018</td>\n",
              "      <td>0.0155</td>\n",
              "      <td>0.0112</td>\n",
              "      <td>0.0138</td>\n",
              "      <td>0.0434</td>\n",
              "      <td>0.0055</td>\n",
              "      <td>0.0191</td>\n",
              "      <td>0.0029</td>\n",
              "      <td>0.0022</td>\n",
              "      <td>0.0494</td>\n",
              "      <td>0.0043</td>\n",
              "      <td>0.0073</td>\n",
              "      <td>0.0611</td>\n",
              "      <td>0.0299</td>\n",
              "      <td>0.0111</td>\n",
              "      <td>0.0017</td>\n",
              "      <td>0.0046</td>\n",
              "      <td>0.0069</td>\n",
              "      <td>0.0102</td>\n",
              "      <td>0.0027</td>\n",
              "      <td>0.0017</td>\n",
              "      <td>0.0053</td>\n",
              "      <td>0.0021</td>\n",
              "      <td>0.005</td>\n",
              "      <td>0.0043</td>\n",
              "      <td>0.0036</td>\n",
              "      <td>0.0012</td>\n",
              "      <td>0.0056</td>\n",
              "      <td>0.0011</td>\n",
              "      <td>0.0055</td>\n",
              "      <td>0.0021</td>\n",
              "      <td>0.0021</td>\n",
              "      <td>0.0027</td>\n",
              "      <td>0.004</td>\n",
              "      <td>0.0033</td>\n",
              "      <td>0.0014</td>\n",
              "      <td>0.0023</td>\n",
              "      <td>0.0013</td>\n",
              "      <td>0.002</td>\n",
              "    </tr>\n",
              "  </tbody>\n",
              "</table>\n",
              "</div>\n",
              "    <div class=\"colab-df-buttons\">\n",
              "\n",
              "  <div class=\"colab-df-container\">\n",
              "    <button class=\"colab-df-convert\" onclick=\"convertToInteractive('df-4a6b5076-7484-4440-9de4-d13ea617c231')\"\n",
              "            title=\"Convert this dataframe to an interactive table.\"\n",
              "            style=\"display:none;\">\n",
              "\n",
              "  <svg xmlns=\"http://www.w3.org/2000/svg\" height=\"24px\" viewBox=\"0 -960 960 960\">\n",
              "    <path d=\"M120-120v-720h720v720H120Zm60-500h600v-160H180v160Zm220 220h160v-160H400v160Zm0 220h160v-160H400v160ZM180-400h160v-160H180v160Zm440 0h160v-160H620v160ZM180-180h160v-160H180v160Zm440 0h160v-160H620v160Z\"/>\n",
              "  </svg>\n",
              "    </button>\n",
              "\n",
              "  <style>\n",
              "    .colab-df-container {\n",
              "      display:flex;\n",
              "      gap: 12px;\n",
              "    }\n",
              "\n",
              "    .colab-df-convert {\n",
              "      background-color: #E8F0FE;\n",
              "      border: none;\n",
              "      border-radius: 50%;\n",
              "      cursor: pointer;\n",
              "      display: none;\n",
              "      fill: #1967D2;\n",
              "      height: 32px;\n",
              "      padding: 0 0 0 0;\n",
              "      width: 32px;\n",
              "    }\n",
              "\n",
              "    .colab-df-convert:hover {\n",
              "      background-color: #E2EBFA;\n",
              "      box-shadow: 0px 1px 2px rgba(60, 64, 67, 0.3), 0px 1px 3px 1px rgba(60, 64, 67, 0.15);\n",
              "      fill: #174EA6;\n",
              "    }\n",
              "\n",
              "    .colab-df-buttons div {\n",
              "      margin-bottom: 4px;\n",
              "    }\n",
              "\n",
              "    [theme=dark] .colab-df-convert {\n",
              "      background-color: #3B4455;\n",
              "      fill: #D2E3FC;\n",
              "    }\n",
              "\n",
              "    [theme=dark] .colab-df-convert:hover {\n",
              "      background-color: #434B5C;\n",
              "      box-shadow: 0px 1px 3px 1px rgba(0, 0, 0, 0.15);\n",
              "      filter: drop-shadow(0px 1px 2px rgba(0, 0, 0, 0.3));\n",
              "      fill: #FFFFFF;\n",
              "    }\n",
              "  </style>\n",
              "\n",
              "    <script>\n",
              "      const buttonEl =\n",
              "        document.querySelector('#df-4a6b5076-7484-4440-9de4-d13ea617c231 button.colab-df-convert');\n",
              "      buttonEl.style.display =\n",
              "        google.colab.kernel.accessAllowed ? 'block' : 'none';\n",
              "\n",
              "      async function convertToInteractive(key) {\n",
              "        const element = document.querySelector('#df-4a6b5076-7484-4440-9de4-d13ea617c231');\n",
              "        const dataTable =\n",
              "          await google.colab.kernel.invokeFunction('convertToInteractive',\n",
              "                                                    [key], {});\n",
              "        if (!dataTable) return;\n",
              "\n",
              "        const docLinkHtml = 'Like what you see? Visit the ' +\n",
              "          '<a target=\"_blank\" href=https://colab.research.google.com/notebooks/data_table.ipynb>data table notebook</a>'\n",
              "          + ' to learn more about interactive tables.';\n",
              "        element.innerHTML = '';\n",
              "        dataTable['output_type'] = 'display_data';\n",
              "        await google.colab.output.renderOutput(dataTable, element);\n",
              "        const docLink = document.createElement('div');\n",
              "        docLink.innerHTML = docLinkHtml;\n",
              "        element.appendChild(docLink);\n",
              "      }\n",
              "    </script>\n",
              "  </div>\n",
              "\n",
              "\n",
              "    </div>\n",
              "  </div>\n"
            ],
            "application/vnd.google.colaboratory.intrinsic+json": {
              "type": "dataframe"
            }
          },
          "metadata": {},
          "execution_count": 9
        }
      ]
    },
    {
      "cell_type": "markdown",
      "source": [
        "- 클래스의 불균형이 심함을 알 수 있다.\n",
        "  - 주로 3번과 4번에 많이 몰려있고 두 개의 클래스를 합하면 전체에서 반 이상의 데이터가 해당 클래스의 몰려있음을 알 수 있다."
      ],
      "metadata": {
        "id": "qXbP7KKL0bUT"
      }
    },
    {
      "cell_type": "markdown",
      "source": [
        "# 텍스트 데이터로 변환 후 벡터화하기\n",
        "---\n",
        "- 해당 데이터는 각 단어를 정수 시퀀스로 변환된 채 제공함.\n",
        "- 텍스트데이터에 대해 벡터화를 시키기위해 정수로 변환된 데이터를 텍스트로 변환\n",
        "- 텍스트로 변환 후 다시 TF-IDF행렬로 벡터화를 진행"
      ],
      "metadata": {
        "id": "m4vTrioC0bqC"
      }
    },
    {
      "cell_type": "markdown",
      "source": [
        "## 단어 인덱스 불러오기 및 수정"
      ],
      "metadata": {
        "id": "4PB4E6d-qbgI"
      }
    },
    {
      "cell_type": "code",
      "source": [
        "# 단어 인덱스 불러오기\n",
        "word_index = reuters.get_word_index(path='reuters_word_index.json')\n",
        "\n",
        "# 앞에 위치한 10개의 데이터만 확인\n",
        "list(word_index.items())[:10]"
      ],
      "metadata": {
        "colab": {
          "base_uri": "https://localhost:8080/"
        },
        "id": "VE4QUhQWn-uX",
        "outputId": "c0a93f69-fafc-41e1-d750-8965e2b78a16"
      },
      "execution_count": 10,
      "outputs": [
        {
          "output_type": "execute_result",
          "data": {
            "text/plain": [
              "[('mdbl', 10996),\n",
              " ('fawc', 16260),\n",
              " ('degussa', 12089),\n",
              " ('woods', 8803),\n",
              " ('hanging', 13796),\n",
              " ('localized', 20672),\n",
              " ('sation', 20673),\n",
              " ('chanthaburi', 20675),\n",
              " ('refunding', 10997),\n",
              " ('hermann', 8804)]"
            ]
          },
          "metadata": {},
          "execution_count": 10
        }
      ]
    },
    {
      "cell_type": "markdown",
      "source": [
        "- 텍스트 데이터를 숫자 인덱스로 변환할 때, 일반적으로 예약된 인덱스가 포함된다.\n",
        "- 실제 단어에는 나타나지 않지만, 해당 데이터에서는 0,1,2번에 각각\n",
        "  - `<pad>`: 패딩 토큰\n",
        "  - `<sos>`: 문서시작 토큰\n",
        "  - `<unk>`: 인식하지 못하는 단어에 대한 토큰\n",
        "  가 저장되어 있다.\n",
        "- 따라서 이를 보정하기 위해, 정수를 인덱스로 바꿀 때 `i-3`사용하기로 한다."
      ],
      "metadata": {
        "id": "dmfOtVk9oDOf"
      }
    },
    {
      "cell_type": "code",
      "source": [
        "# 정수: 단어 형태로 변경\n",
        "index_to_word = {index+3 : word for word, index in word_index.items() }\n",
        "\n",
        "list(sorted(index_to_word.items()))[:5]"
      ],
      "metadata": {
        "id": "PzZ14IzeoDWY",
        "colab": {
          "base_uri": "https://localhost:8080/"
        },
        "outputId": "250767a9-76a0-4c62-c8e6-ef9732a9ccb0"
      },
      "execution_count": 11,
      "outputs": [
        {
          "output_type": "execute_result",
          "data": {
            "text/plain": [
              "[(4, 'the'), (5, 'of'), (6, 'to'), (7, 'in'), (8, 'said')]"
            ]
          },
          "metadata": {},
          "execution_count": 11
        }
      ]
    },
    {
      "cell_type": "markdown",
      "source": [
        "- 딕셔너리 데이터에서 키값이 0,1,2를 가지는 데이터에 대해 예약된 인덱스를 포함해준다."
      ],
      "metadata": {
        "id": "-Fh1WTjZswRA"
      }
    },
    {
      "cell_type": "code",
      "source": [
        "# index_to_word에 숫자 0은 <pad>, 숫자 1은 <sos>, 숫자 2는 <unk>를 넣어줌\n",
        "for index, token in enumerate((\"<pad>\", \"<sos>\", \"<unk>\")):\n",
        "  index_to_word[index]=token\n",
        "\n",
        "list(sorted(index_to_word.items()))[:4]"
      ],
      "metadata": {
        "colab": {
          "base_uri": "https://localhost:8080/"
        },
        "id": "1TvOJvoOs7uv",
        "outputId": "e4ec99a4-5921-4c46-fb7a-0bd33b3ff78b"
      },
      "execution_count": 12,
      "outputs": [
        {
          "output_type": "execute_result",
          "data": {
            "text/plain": [
              "[(0, '<pad>'), (1, '<sos>'), (2, '<unk>'), (4, 'the')]"
            ]
          },
          "metadata": {},
          "execution_count": 12
        }
      ]
    },
    {
      "cell_type": "markdown",
      "source": [
        "## 뉴스 데이터를 텍스트 데이터로 변환\n",
        "- 위에서 만든 `index_to_word`를 이용해, 정수 시퀀스로 저장된 뉴스 데이터를 텍스트 데이터로 변환해준다."
      ],
      "metadata": {
        "id": "OLheCsC8s7xg"
      }
    },
    {
      "cell_type": "code",
      "source": [
        "# 텍스트 데이터로 변환하는 함수 정의\n",
        "def int_to_text(data, words = index_to_word):\n",
        "  decoded = []\n",
        "  for i in range(len(data)):\n",
        "    t = ' '.join([words[index] for index in data[i]])\n",
        "    decoded.append(t)\n",
        "\n",
        "  data = decoded\n",
        "  print(f'변환된 텍스트의 개수: {len(data)}')\n",
        "  print(f'첫번째 데이터: {data[0]}\\n\\n')\n",
        "\n",
        "  return data"
      ],
      "metadata": {
        "id": "p1aP88ejs70u"
      },
      "execution_count": 13,
      "outputs": []
    },
    {
      "cell_type": "markdown",
      "source": [
        "### 모든 단어를 사용한 데이터셋"
      ],
      "metadata": {
        "id": "S4Kmth05s73k"
      }
    },
    {
      "cell_type": "code",
      "source": [
        "# 텍스트 데이터 변환 - 모든 단어를 사용한 데이터셋\n",
        "x_train_all_to_text = int_to_text(x_train_all)\n",
        "x_test_all_to_text = int_to_text(x_test_all)"
      ],
      "metadata": {
        "colab": {
          "base_uri": "https://localhost:8080/"
        },
        "id": "3bK6uUXms76Z",
        "outputId": "7f00f7d2-f81d-41f8-d2a9-effceeb31bff"
      },
      "execution_count": 14,
      "outputs": [
        {
          "output_type": "stream",
          "name": "stdout",
          "text": [
            "변환된 텍스트의 개수: 8982\n",
            "첫번째 데이터: <sos> mcgrath rentcorp said as a result of its december acquisition of space co it expects earnings per share in 1987 of 1 15 to 1 30 dlrs per share up from 70 cts in 1986 the company said pretax net should rise to nine to 10 mln dlrs from six mln dlrs in 1986 and rental operation revenues to 19 to 22 mln dlrs from 12 5 mln dlrs it said cash flow per share this year should be 2 50 to three dlrs reuter 3\n",
            "\n",
            "\n",
            "변환된 텍스트의 개수: 2246\n",
            "첫번째 데이터: <sos> the great atlantic and pacific tea co said its three year 345 mln dlr capital program will be be substantially increased to accommodate growth and expansion plans for waldbaum inc and shopwell inc over the next two years a and p said the acquisition of shopwell in august 1986 and waldbaum in december helped us achieve better than expected results in the fourth quarter ended february 28 its net income from continuing operations jumped 52 6 pct to 20 7 mln dlrs or 55 cts a share in the latest quarter as sales increased 48 3 pct to 1 58 billion dlrs a and p gave no details on the expanded capital program but it did say it completed the first year of the program during 1986 a and p is 52 4 pct owned by lt tengelmann warenhandelsgesellschaft of west germany reuter 3\n",
            "\n",
            "\n"
          ]
        }
      ]
    },
    {
      "cell_type": "markdown",
      "source": [
        "### 빈도수 상위 50%의 단어를 사용한 데이터셋"
      ],
      "metadata": {
        "id": "d8spL3H0tm-Z"
      }
    },
    {
      "cell_type": "code",
      "source": [
        "# 텍스트 데이터 변환 - 빈도수 상위 50%의 단어를 사용한 데이터셋\n",
        "x_train_50p_to_text = int_to_text(x_train_50p)\n",
        "x_test_50p_to_text = int_to_text(x_test_50p)"
      ],
      "metadata": {
        "colab": {
          "base_uri": "https://localhost:8080/"
        },
        "id": "r3zYAnActnBN",
        "outputId": "c148c229-7c7f-4389-e2f4-9dadb87a5a39"
      },
      "execution_count": 15,
      "outputs": [
        {
          "output_type": "stream",
          "name": "stdout",
          "text": [
            "변환된 텍스트의 개수: 8982\n",
            "첫번째 데이터: <sos> <unk> <unk> said as a result of its december acquisition of space co it expects earnings per share in 1987 of 1 15 to 1 30 dlrs per share up from 70 cts in 1986 the company said pretax net should rise to nine to 10 mln dlrs from six mln dlrs in 1986 and rental operation revenues to 19 to 22 mln dlrs from 12 5 mln dlrs it said cash flow per share this year should be 2 50 to three dlrs reuter 3\n",
            "\n",
            "\n",
            "변환된 텍스트의 개수: 2246\n",
            "첫번째 데이터: <sos> the great atlantic and pacific tea co said its three year 345 mln dlr capital program will be be substantially increased to <unk> growth and expansion plans for <unk> inc and <unk> inc over the next two years a and p said the acquisition of <unk> in august 1986 and <unk> in december helped us achieve better than expected results in the fourth quarter ended february 28 its net income from continuing operations jumped 52 6 pct to 20 7 mln dlrs or 55 cts a share in the latest quarter as sales increased 48 3 pct to 1 58 billion dlrs a and p gave no details on the expanded capital program but it did say it completed the first year of the program during 1986 a and p is 52 4 pct owned by lt <unk> <unk> of west germany reuter 3\n",
            "\n",
            "\n"
          ]
        }
      ]
    },
    {
      "cell_type": "markdown",
      "source": [
        "### 5000개의 단어를 사용한 데이터셋"
      ],
      "metadata": {
        "id": "QEmPHgTotnG8"
      }
    },
    {
      "cell_type": "code",
      "source": [
        "# 텍스트 데이터 변환 - 5000개의 단어를 사용한 데이터셋\n",
        "x_train_5t_to_text = int_to_text(x_train_5t)\n",
        "x_test_5t_to_text = int_to_text(x_test_5t)"
      ],
      "metadata": {
        "colab": {
          "base_uri": "https://localhost:8080/"
        },
        "id": "v7QDHoWWtnJe",
        "outputId": "760f6f46-4f13-4b81-9635-453a41b242ae"
      },
      "execution_count": 16,
      "outputs": [
        {
          "output_type": "stream",
          "name": "stdout",
          "text": [
            "변환된 텍스트의 개수: 8982\n",
            "첫번째 데이터: <sos> <unk> <unk> said as a result of its december acquisition of space co it expects earnings per share in 1987 of 1 15 to 1 30 dlrs per share up from 70 cts in 1986 the company said pretax net should rise to nine to 10 mln dlrs from six mln dlrs in 1986 and rental operation revenues to 19 to 22 mln dlrs from 12 5 mln dlrs it said cash flow per share this year should be 2 50 to three dlrs reuter 3\n",
            "\n",
            "\n",
            "변환된 텍스트의 개수: 2246\n",
            "첫번째 데이터: <sos> the great atlantic and pacific tea co said its three year 345 mln dlr capital program will be be substantially increased to <unk> growth and expansion plans for <unk> inc and <unk> inc over the next two years a and p said the acquisition of <unk> in august 1986 and <unk> in december helped us achieve better than expected results in the fourth quarter ended february 28 its net income from continuing operations jumped 52 6 pct to 20 7 mln dlrs or 55 cts a share in the latest quarter as sales increased 48 3 pct to 1 58 billion dlrs a and p gave no details on the expanded capital program but it did say it completed the first year of the program during 1986 a and p is 52 4 pct owned by lt <unk> <unk> of west germany reuter 3\n",
            "\n",
            "\n"
          ]
        }
      ]
    },
    {
      "cell_type": "markdown",
      "source": [
        "- 단어사용 개수가 적어질수록 `<unk>`가 차지하는 비율이 더 높아짐을 알 수 있다."
      ],
      "metadata": {
        "id": "I31jZd5Gs7_U"
      }
    },
    {
      "cell_type": "markdown",
      "source": [
        "## 벡터화하기\n",
        "- DTM행렬을 생성해준뒤, 그것을 기반으로 TF-IDF행렬을 만들어준다.\n",
        "- 이전에 같은데이터를 다루었을 때, 불용어(stop_words=`english`)를 사용한 경우와 그렇지 않은 경우를 비교한결과 모델의 성능이 비슷하거나 불용어를 사용하지 않은 경우에 성능이 1~2%정도 높게 나왔다. 따라서 해당 뉴스 데이터를 벡터화할 때도 불용어를 사용하지 않기로 한다."
      ],
      "metadata": {
        "id": "fx8WJA260oKN"
      }
    },
    {
      "cell_type": "markdown",
      "source": [
        "### DTM행렬 생성"
      ],
      "metadata": {
        "id": "HuuNgBSb0pLT"
      }
    },
    {
      "cell_type": "code",
      "source": [
        "# DTM행렬을 생성하는 함수\n",
        "def make_dtm_matrix(train_data, test_data):\n",
        "  dtmvector = CountVectorizer(stop_words='english')\n",
        "  x_train_dtm = dtmvector.fit_transform(train_data)\n",
        "  x_test_dtm = dtmvector.transform(test_data)\n",
        "\n",
        "  print(f'훈련 데이터의 DTM차원: {x_train_dtm.shape}')\n",
        "  print(f'테스트 데이터의 DTM차원: {x_test_dtm.shape}')\n",
        "  print('\\n')\n",
        "\n",
        "  return x_train_dtm, x_test_dtm"
      ],
      "metadata": {
        "id": "3sRHoE-a0pWE"
      },
      "execution_count": 17,
      "outputs": []
    },
    {
      "cell_type": "code",
      "source": [
        "# DTM행렬 생성\n",
        "\n",
        "## 모든 단어를 사용한 데이터셋\n",
        "x_train_all_dtm, x_test_all_dtm = make_dtm_matrix(x_train_all_to_text,\n",
        "                                                  x_test_all_to_text)\n",
        "\n",
        "## 빈도수 상위 50%의 단어를 사용한 데이터셋\n",
        "x_train_50p_dtm, x_test_50p_dtm = make_dtm_matrix(x_train_50p_to_text,\n",
        "                                                  x_test_50p_to_text)\n",
        "\n",
        "## 5000개의 단어를 사용한 데이터셋\n",
        "x_train_5t_dtm, x_test_5t_dtm = make_dtm_matrix(x_train_5t_to_text,\n",
        "                                                  x_test_5t_to_text)"
      ],
      "metadata": {
        "id": "8PzZRbHZ0pfk",
        "colab": {
          "base_uri": "https://localhost:8080/"
        },
        "outputId": "2d73ada9-f7d4-42db-bae0-6dc31f567ccc"
      },
      "execution_count": 18,
      "outputs": [
        {
          "output_type": "stream",
          "name": "stdout",
          "text": [
            "훈련 데이터의 DTM차원: (8982, 26218)\n",
            "테스트 데이터의 DTM차원: (2246, 26218)\n",
            "\n",
            "\n",
            "훈련 데이터의 DTM차원: (8982, 14384)\n",
            "테스트 데이터의 DTM차원: (2246, 14384)\n",
            "\n",
            "\n",
            "훈련 데이터의 DTM차원: (8982, 4633)\n",
            "테스트 데이터의 DTM차원: (2246, 4633)\n",
            "\n",
            "\n"
          ]
        }
      ]
    },
    {
      "cell_type": "markdown",
      "source": [
        "- 각각 데이터셋에서 행은 데이터의 개수가 나옴을 알 수 있다.\n",
        "- 열은 각 데이터셋마다 불러온 단어의 개수로 채워질 것으로 예상했으나 모든 데이터셋에서 단어의 개수보다 약간 적은 개수의 컬럼이 만들어졌음을 알 수 있다."
      ],
      "metadata": {
        "id": "zV8NYnxF2VOo"
      }
    },
    {
      "cell_type": "markdown",
      "source": [
        "### TF-IDF행렬 생성\n",
        "- 위에서 만든 DTM행렬을 이용해 TF-IDF행렬을 생성한다."
      ],
      "metadata": {
        "id": "iJcMZasP0p8s"
      }
    },
    {
      "cell_type": "code",
      "source": [
        "# TF-IDF행렬을 생성하는 함수\n",
        "def dtm_to_tfidf(train_dtm, test_dtm):\n",
        "  tfidf_transformer = TfidfTransformer()\n",
        "  x_train_tfidf = tfidf_transformer.fit_transform(train_dtm)\n",
        "  x_test_tfidf = tfidf_transformer.transform(test_dtm)\n",
        "  print(f'훈련 데이터의 TF-IDF차원: {x_train_tfidf.shape}')\n",
        "  print(f'테스트 데이터의 TF-IDF차원: {x_test_tfidf.shape}')\n",
        "  print('\\n')\n",
        "\n",
        "  return x_train_tfidf, x_test_tfidf"
      ],
      "metadata": {
        "id": "SnD7Ns9z0qFU"
      },
      "execution_count": 19,
      "outputs": []
    },
    {
      "cell_type": "code",
      "source": [
        "# TF-IDF행렬을 생성\n",
        "\n",
        "## 모든 단어를 사용한 데이터셋\n",
        "x_train_all_tfidf, x_test_all_tfidf = dtm_to_tfidf(x_train_all_dtm,\n",
        "                                                      x_test_all_dtm)\n",
        "\n",
        "## 빈도수 상위 50%의 단어를 사용한 데이터셋\n",
        "x_train_50p_tfidf, x_test_50p_tfidf = dtm_to_tfidf(x_train_50p_dtm,\n",
        "                                                  x_test_50p_dtm)\n",
        "\n",
        "## 5000개의 단어를 사용한 데이터셋\n",
        "x_train_5t_tfidf, x_test_5t_tfidf = dtm_to_tfidf(x_train_5t_dtm,\n",
        "                                                  x_test_5t_dtm)"
      ],
      "metadata": {
        "id": "0xd7t7Fz0qOD",
        "colab": {
          "base_uri": "https://localhost:8080/"
        },
        "outputId": "a3def95a-47bd-4267-e971-367e809b5347"
      },
      "execution_count": 20,
      "outputs": [
        {
          "output_type": "stream",
          "name": "stdout",
          "text": [
            "훈련 데이터의 TF-IDF차원: (8982, 26218)\n",
            "테스트 데이터의 TF-IDF차원: (2246, 26218)\n",
            "\n",
            "\n",
            "훈련 데이터의 TF-IDF차원: (8982, 14384)\n",
            "테스트 데이터의 TF-IDF차원: (2246, 14384)\n",
            "\n",
            "\n",
            "훈련 데이터의 TF-IDF차원: (8982, 4633)\n",
            "테스트 데이터의 TF-IDF차원: (2246, 4633)\n",
            "\n",
            "\n"
          ]
        }
      ]
    },
    {
      "cell_type": "markdown",
      "source": [
        "# 머신러닝 모델 성능 비교\n",
        "---\n",
        "- 사용할 모델: 나이브 베이즈 분류기, CNB, 로지스틱 회귀, 서포트 벡터 머신, 결정 트리, 랜덤 포레스트, 그래디언트 부스팅 트리, 보팅\n",
        "- 재현 가능한 결과를 위해 `random_state`를 사용해준다. (`numpy`의 `random.seed()`를 사용하는 등 한 번에 할 수 있으나 작동하지 않는 경우를 대비해 일일이 설정해준다.)\n",
        "- Accuracy, f1-score 비교\n",
        "- 성능이 가장 잘 나온 3가지 모델을 선정하여 보팅해주어 결과를 다시 비교해본다."
      ],
      "metadata": {
        "id": "23-CejJq0qfz"
      }
    },
    {
      "cell_type": "code",
      "source": [
        "## 사용할 모델 불러오기 ##\n",
        "\n",
        "# 나이브 베이즈 분류기(Multinomial Naive Bayes)\n",
        "mnb = MultinomialNB()\n",
        "\n",
        "# CNB: Complement Naive Bayes\n",
        "cnb = ComplementNB()\n",
        "\n",
        "# 로지스틱 회귀(LogisticRegression)\n",
        "lr = LogisticRegression(C=10000, penalty='l2', max_iter=3000)\n",
        "\n",
        "# 서포트 벡터 머신(Support Vector Machine)\n",
        "l_svc = LinearSVC(random_state = 42, C=1000, penalty='l2', max_iter=3000, dual=False)\n",
        "nl_svc = SVC(random_state = 42, kernel='sigmoid', max_iter=3000, probability=True)\n",
        "\n",
        "# 결정 트리(DecisionTree)\n",
        "dt = DecisionTreeClassifier(max_depth=47, random_state=42)\n",
        "\n",
        "# 랜덤 포레스트(RandomForest)\n",
        "rf = RandomForestClassifier(random_state=42, n_estimators=500, max_depth=47)\n",
        "\n",
        "# 그래디언트 부스팅 트리(Gradient Boosting)\n",
        "gbt = GradientBoostingClassifier(random_state = 42)\n",
        "\n",
        "# 확률적 경사하강법(Stochastic Gradient Descent)\n",
        "sgd = SGDClassifier(random_state=42)\n",
        "\n",
        "# 모델을 리스트에 저장\n",
        "models = [mnb, cnb, lr, l_svc, nl_svc, dt, rf, gbt, sgd]"
      ],
      "metadata": {
        "id": "tQN4_qlGV4DY"
      },
      "execution_count": 21,
      "outputs": []
    },
    {
      "cell_type": "code",
      "source": [
        "### 모델별 성능을 구하기 위한 함수 ###\n",
        "import time\n",
        "\n",
        "# 단일 모델 성능 계산\n",
        "def get_model_predict(model, x_tr, y_tr, x_te, y_te):\n",
        "  start_time = time.time()  # 시작 시간 기록\n",
        "  model.fit(x_tr, y_tr)\n",
        "  pred = model.predict(x_te)\n",
        "  end_time = time.time()  # 종료 시간 기록\n",
        "\n",
        "  accuracy = accuracy_score(y_te, pred)\n",
        "  f1_ = f1_score(y_te, pred, average='weighted')\n",
        "  elapsed_time = end_time - start_time  # 실행 시간 계산\n",
        "\n",
        "  print('### Complete ', model.__class__.__name__, ' ###')\n",
        "#   print(f'정확도: {accuracy:.4f}, f1-score:{f1_:.4f}, Time: {elapsed_time:.4f}')\n",
        "  return model.__class__.__name__, accuracy, f1_, elapsed_time\n",
        "\n",
        "\n",
        "# 모델별 평가 함수\n",
        "def evaluate_models(models, x_tr, y_tr, x_te, y_te):\n",
        "  model_evals = {}\n",
        "  for model in models:\n",
        "    model_name, acc, f1, elapsed_time = get_model_predict(model,\n",
        "                                                          x_tr, y_tr, x_te, y_te)\n",
        "    model_evals[model_name] = {\n",
        "        \"accuracy\": np.round(acc, 4),\n",
        "        \"f1\" : np.round(f1, 4),\n",
        "        \"time\": np.round(elapsed_time, 4)\n",
        "    }\n",
        "\n",
        "  return model_evals\n",
        "\n",
        "# 결과 출력 함수\n",
        "def display_results(results):\n",
        "  for model_name, metrics, in results.items():\n",
        "    print(f\"### {model_name} ###\")\n",
        "    print('Accuracy: ', metrics['accuracy'])\n",
        "    print('F1 Score: ', metrics['f1'])\n",
        "    print('Time: ', metrics['time'], '\\n')\n"
      ],
      "metadata": {
        "id": "tA4FkpiOwYFk"
      },
      "execution_count": 38,
      "outputs": []
    },
    {
      "cell_type": "markdown",
      "source": [
        "## 모든 단어를 사용한 데이터셋"
      ],
      "metadata": {
        "id": "nSNNOfj604lV"
      }
    },
    {
      "cell_type": "code",
      "source": [
        "print('모든 단어를 사용한 데이터셋: \\n')\n",
        "\n",
        "# 모델별 평가 수행\n",
        "eval_all_results = evaluate_models(models,\n",
        "                                   x_train_all_tfidf,\n",
        "                                   y_train_all,\n",
        "                                   x_test_all_tfidf,\n",
        "                                   y_test_all)"
      ],
      "metadata": {
        "colab": {
          "base_uri": "https://localhost:8080/"
        },
        "id": "o8IUuKZ8mVxB",
        "outputId": "d66d341d-8ca1-4e20-b8b9-9e76516aa422"
      },
      "execution_count": 23,
      "outputs": [
        {
          "output_type": "stream",
          "name": "stdout",
          "text": [
            "모든 단어를 사용한 데이터셋: \n",
            "\n",
            "### Complete  MultinomialNB  ###\n",
            "### Complete  ComplementNB  ###\n",
            "### Complete  LogisticRegression  ###\n",
            "### Complete  LinearSVC  ###\n",
            "### Complete  SVC  ###\n",
            "### Complete  DecisionTreeClassifier  ###\n",
            "### Complete  RandomForestClassifier  ###\n",
            "### Complete  GradientBoostingClassifier  ###\n",
            "### Complete  SGDClassifier  ###\n"
          ]
        }
      ]
    },
    {
      "cell_type": "code",
      "source": [
        "# 결과 출력\n",
        "display_results(eval_all_results)"
      ],
      "metadata": {
        "colab": {
          "base_uri": "https://localhost:8080/"
        },
        "id": "PcMNj4ccCCVO",
        "outputId": "321f16db-b68e-4103-e1bc-3afa3a7750f3"
      },
      "execution_count": 24,
      "outputs": [
        {
          "output_type": "stream",
          "name": "stdout",
          "text": [
            "### MultinomialNB ###\n",
            "Accuracy:  {0.6487}\n",
            "F1 Score:  {0.5601}\n",
            "Time:  {0.1574}  seconds\n",
            "\n",
            "### ComplementNB ###\n",
            "Accuracy:  {0.772}\n",
            "F1 Score:  {0.7429}\n",
            "Time:  {0.1177}  seconds\n",
            "\n",
            "### LogisticRegression ###\n",
            "Accuracy:  {0.8121}\n",
            "F1 Score:  {0.8056}\n",
            "Time:  {39.8101}  seconds\n",
            "\n",
            "### LinearSVC ###\n",
            "Accuracy:  {0.8054}\n",
            "F1 Score:  {0.8019}\n",
            "Time:  {23.5611}  seconds\n",
            "\n",
            "### SVC ###\n",
            "Accuracy:  {0.8272}\n",
            "F1 Score:  {0.8174}\n",
            "Time:  {328.9497}  seconds\n",
            "\n",
            "### DecisionTreeClassifier ###\n",
            "Accuracy:  {0.7057}\n",
            "F1 Score:  {0.6977}\n",
            "Time:  {6.6607}  seconds\n",
            "\n",
            "### RandomForestClassifier ###\n",
            "Accuracy:  {0.7582}\n",
            "F1 Score:  {0.7312}\n",
            "Time:  {313.777}  seconds\n",
            "\n",
            "### GradientBoostingClassifier ###\n",
            "Accuracy:  {0.7769}\n",
            "F1 Score:  {0.7729}\n",
            "Time:  {1316.8746}  seconds\n",
            "\n",
            "### SGDClassifier ###\n",
            "Accuracy:  {0.8419}\n",
            "F1 Score:  {0.8343}\n",
            "Time:  {1.9424}  seconds\n",
            "\n"
          ]
        }
      ]
    },
    {
      "cell_type": "markdown",
      "source": [
        "## 빈도수 상위 50% 단어를 사용한 데이터셋"
      ],
      "metadata": {
        "id": "-xQkKHEdmWLm"
      }
    },
    {
      "cell_type": "code",
      "source": [
        "print('빈도수 상위 50% 단어를 사용한 데이터셋: \\n')\n",
        "\n",
        "# 모델별 평가 수행\n",
        "eval_50p_results = evaluate_models(models,\n",
        "                                   x_train_50p_tfidf,\n",
        "                                   y_train_50p,\n",
        "                                   x_test_50p_tfidf,\n",
        "                                   y_test_50p)"
      ],
      "metadata": {
        "colab": {
          "base_uri": "https://localhost:8080/"
        },
        "id": "R_TAPiV6mVz7",
        "outputId": "65ebe276-96d5-4ac0-cbb7-7772c305a4ae"
      },
      "execution_count": 25,
      "outputs": [
        {
          "output_type": "stream",
          "name": "stdout",
          "text": [
            "빈도수 상위 50% 단어를 사용한 데이터셋: \n",
            "\n",
            "### Complete  MultinomialNB  ###\n",
            "### Complete  ComplementNB  ###\n",
            "### Complete  LogisticRegression  ###\n",
            "### Complete  LinearSVC  ###\n",
            "### Complete  SVC  ###\n",
            "### Complete  DecisionTreeClassifier  ###\n",
            "### Complete  RandomForestClassifier  ###\n",
            "### Complete  GradientBoostingClassifier  ###\n",
            "### Complete  SGDClassifier  ###\n"
          ]
        }
      ]
    },
    {
      "cell_type": "code",
      "source": [
        "# 결과 출력\n",
        "display_results(eval_50p_results)"
      ],
      "metadata": {
        "id": "ea07Z67nmWUW",
        "colab": {
          "base_uri": "https://localhost:8080/"
        },
        "outputId": "371b0732-0e0b-4282-ad42-6b9c87fbeea6"
      },
      "execution_count": 26,
      "outputs": [
        {
          "output_type": "stream",
          "name": "stdout",
          "text": [
            "### MultinomialNB ###\n",
            "Accuracy:  {0.6705}\n",
            "F1 Score:  {0.5894}\n",
            "Time:  {0.076}  seconds\n",
            "\n",
            "### ComplementNB ###\n",
            "Accuracy:  {0.7792}\n",
            "F1 Score:  {0.7546}\n",
            "Time:  {0.07}  seconds\n",
            "\n",
            "### LogisticRegression ###\n",
            "Accuracy:  {0.8112}\n",
            "F1 Score:  {0.8048}\n",
            "Time:  {25.078}  seconds\n",
            "\n",
            "### LinearSVC ###\n",
            "Accuracy:  {0.8028}\n",
            "F1 Score:  {0.7993}\n",
            "Time:  {22.4031}  seconds\n",
            "\n",
            "### SVC ###\n",
            "Accuracy:  {0.8259}\n",
            "F1 Score:  {0.8161}\n",
            "Time:  {303.3708}  seconds\n",
            "\n",
            "### DecisionTreeClassifier ###\n",
            "Accuracy:  {0.6986}\n",
            "F1 Score:  {0.6912}\n",
            "Time:  {7.0647}  seconds\n",
            "\n",
            "### RandomForestClassifier ###\n",
            "Accuracy:  {0.7649}\n",
            "F1 Score:  {0.7415}\n",
            "Time:  {222.8991}  seconds\n",
            "\n",
            "### GradientBoostingClassifier ###\n",
            "Accuracy:  {0.7698}\n",
            "F1 Score:  {0.7693}\n",
            "Time:  {1217.395}  seconds\n",
            "\n",
            "### SGDClassifier ###\n",
            "Accuracy:  {0.8424}\n",
            "F1 Score:  {0.8357}\n",
            "Time:  {1.0688}  seconds\n",
            "\n"
          ]
        }
      ]
    },
    {
      "cell_type": "markdown",
      "source": [
        "## 5000개의 단어를 사용한 데이터셋"
      ],
      "metadata": {
        "id": "1qAC8q1SmWXW"
      }
    },
    {
      "cell_type": "code",
      "source": [
        "print('5000개의 단어를 사용한 데이터셋: \\n')\n",
        "\n",
        "# 모델별 평가 수행\n",
        "eval_5t_results = evaluate_models(models,\n",
        "                                x_train_5t_tfidf,\n",
        "                                y_train_5t,\n",
        "                                x_test_5t_tfidf,\n",
        "                                y_test_5t)\n"
      ],
      "metadata": {
        "colab": {
          "base_uri": "https://localhost:8080/"
        },
        "id": "6FQrrRQXmWac",
        "outputId": "736ed263-d49a-4d3e-dcfe-ba1bed6f9cd4"
      },
      "execution_count": 27,
      "outputs": [
        {
          "output_type": "stream",
          "name": "stdout",
          "text": [
            "5000개의 단어를 사용한 데이터셋: \n",
            "\n",
            "### Complete  MultinomialNB  ###\n",
            "### Complete  ComplementNB  ###\n",
            "### Complete  LogisticRegression  ###\n",
            "### Complete  LinearSVC  ###\n",
            "### Complete  SVC  ###\n",
            "### Complete  DecisionTreeClassifier  ###\n",
            "### Complete  RandomForestClassifier  ###\n",
            "### Complete  GradientBoostingClassifier  ###\n",
            "### Complete  SGDClassifier  ###\n"
          ]
        }
      ]
    },
    {
      "cell_type": "code",
      "source": [
        "# 결과 출력\n",
        "display_results(eval_5t_results)"
      ],
      "metadata": {
        "id": "axuemLxU5Pvp",
        "colab": {
          "base_uri": "https://localhost:8080/"
        },
        "outputId": "ed4f213c-936d-4447-eb5e-4d91fd6ff29d"
      },
      "execution_count": 28,
      "outputs": [
        {
          "output_type": "stream",
          "name": "stdout",
          "text": [
            "### MultinomialNB ###\n",
            "Accuracy:  {0.7026}\n",
            "F1 Score:  {0.6426}\n",
            "Time:  {0.0526}  seconds\n",
            "\n",
            "### ComplementNB ###\n",
            "Accuracy:  {0.7801}\n",
            "F1 Score:  {0.756}\n",
            "Time:  {0.0272}  seconds\n",
            "\n",
            "### LogisticRegression ###\n",
            "Accuracy:  {0.8063}\n",
            "F1 Score:  {0.8008}\n",
            "Time:  {19.5066}  seconds\n",
            "\n",
            "### LinearSVC ###\n",
            "Accuracy:  {0.7939}\n",
            "F1 Score:  {0.7903}\n",
            "Time:  {11.6051}  seconds\n",
            "\n",
            "### SVC ###\n",
            "Accuracy:  {0.8255}\n",
            "F1 Score:  {0.8157}\n",
            "Time:  {218.8}  seconds\n",
            "\n",
            "### DecisionTreeClassifier ###\n",
            "Accuracy:  {0.7044}\n",
            "F1 Score:  {0.6958}\n",
            "Time:  {4.7158}  seconds\n",
            "\n",
            "### RandomForestClassifier ###\n",
            "Accuracy:  {0.776}\n",
            "F1 Score:  {0.7557}\n",
            "Time:  {136.123}  seconds\n",
            "\n",
            "### GradientBoostingClassifier ###\n",
            "Accuracy:  {0.7631}\n",
            "F1 Score:  {0.7621}\n",
            "Time:  {1058.0136}  seconds\n",
            "\n",
            "### SGDClassifier ###\n",
            "Accuracy:  {0.8419}\n",
            "F1 Score:  {0.8355}\n",
            "Time:  {0.7771}  seconds\n",
            "\n"
          ]
        }
      ]
    },
    {
      "cell_type": "markdown",
      "source": [
        "## 보팅(Voting)\n",
        "---\n",
        "- 가장 성능이 좋은 데이터셋\n",
        "- 가장 성능이 좋은 모델 3가지를 이용하여 보팅 - 소프트보팅, 하드보팅"
      ],
      "metadata": {
        "id": "kP4lnN8AmoGZ"
      }
    },
    {
      "cell_type": "code",
      "source": [
        "# 보팅 - 소프트보팅\n",
        "from sklearn.calibration import CalibratedClassifierCV\n",
        "c3v_sgd = CalibratedClassifierCV(sgd, method='sigmoid', cv=5)\n",
        "voting_soft =  VotingClassifier(voting='soft',\n",
        "                                estimators=[('lr',lr), ('nl_svc', nl_svc), ('c3v_sgd', c3v_sgd)],\n",
        "                                n_jobs=-1)\n",
        "\n",
        "start_time = time.time()  # 시작 시간 기록\n",
        "voting_soft.fit(x_train_50p_tfidf, y_train_50p)\n",
        "pred = voting_soft.predict(x_test_50p_tfidf)\n",
        "end_time = time.time()  # 종료 시간 기록\n",
        "\n",
        "accuracy = accuracy_score(y_test_50p, pred)\n",
        "f1_ = f1_score(y_test_50p, pred, average='weighted')\n",
        "elapsed_time = end_time - start_time  # 실행 시간 계산\n",
        "\n",
        "print('### Complete ', voting_soft.__class__.__name__, '(soft) ###')\n",
        "print(f'정확도: {accuracy:.4f}, f1-score:{f1_:.4f}, Time: {elapsed_time:.4f}')"
      ],
      "metadata": {
        "id": "nCJOe3-J04vp",
        "colab": {
          "base_uri": "https://localhost:8080/"
        },
        "outputId": "49029f44-b29b-4383-f55b-3b65d04a65aa"
      },
      "execution_count": 29,
      "outputs": [
        {
          "output_type": "stream",
          "name": "stdout",
          "text": [
            "### Complete  VotingClassifier (soft) ###\n",
            "정확도: 0.8290, f1-score:0.8221, Time: 332.4682\n"
          ]
        }
      ]
    },
    {
      "cell_type": "code",
      "source": [
        "# 보팅 - 하드보팅\n",
        "voting_hard =  VotingClassifier(voting='hard',\n",
        "                                estimators=[('lr',lr), ('nl_svc', nl_svc), ('sgd', sgd)],\n",
        "                                n_jobs=-1)\n",
        "\n",
        "start_time = time.time()  # 시작 시간 기록\n",
        "voting_hard.fit(x_train_50p_tfidf, y_train_50p)\n",
        "pred = voting_hard.predict(x_test_50p_tfidf)\n",
        "end_time = time.time()  # 종료 시간 기록\n",
        "\n",
        "accuracy = accuracy_score(y_test_50p, pred)\n",
        "f1_ = f1_score(y_test_50p, pred, average='weighted')\n",
        "elapsed_time = end_time - start_time  # 실행 시간 계산\n",
        "\n",
        "print('### Complete ', voting_hard.__class__.__name__, '() ###')\n",
        "print(f'정확도: {accuracy:.4f}, f1-score:{f1_:.4f}, Time: {elapsed_time:.4f}')"
      ],
      "metadata": {
        "colab": {
          "base_uri": "https://localhost:8080/"
        },
        "id": "rBm5bRjecj3F",
        "outputId": "f6d9ac5c-e482-4744-9b5e-53445588ef25"
      },
      "execution_count": 31,
      "outputs": [
        {
          "output_type": "stream",
          "name": "stdout",
          "text": [
            "### Complete  VotingClassifier () ###\n",
            "정확도: 0.8317, f1-score:0.8225, Time: 313.6942\n"
          ]
        }
      ]
    },
    {
      "cell_type": "code",
      "source": [
        "# 보팅 - 하드보팅\n",
        "voting_hard2 =  VotingClassifier(voting='hard',\n",
        "                                estimators=[('mnb', mnb), ('lr', lr),\n",
        "                                 ('cnb', cnb), ('l_svc', l_svc), ('nl_svc', nl_svc),\n",
        "                                            ('sgd', sgd), ('dt', dt), ('rf', rf), ('gbt', gbt) ],\n",
        "                                n_jobs=-1)\n",
        "\n",
        "start_time = time.time()  # 시작 시간 기록\n",
        "voting_hard2.fit(x_train_50p_tfidf, y_train_50p)\n",
        "pred = voting_hard2.predict(x_test_50p_tfidf)\n",
        "end_time = time.time()  # 종료 시간 기록\n",
        "\n",
        "accuracy = accuracy_score(y_test_50p, pred)\n",
        "f1_ = f1_score(y_test_50p, pred, average='weighted')\n",
        "elapsed_time = end_time - start_time  # 실행 시간 계산\n",
        "\n",
        "print('### Complete ', voting_hard2.__class__.__name__, '() ###')\n",
        "print(f'정확도: {accuracy:.4f}, f1-score:{f1_:.4f}, Time: {elapsed_time:.4f}')\n",
        "\n",
        "models = [mnb, cnb, lr, l_svc, nl_svc, dt, rf, gbt, sgd]"
      ],
      "metadata": {
        "id": "ZXfqshog09n_",
        "colab": {
          "base_uri": "https://localhost:8080/"
        },
        "outputId": "ad009c4b-705e-4454-fce1-a0bc6dba3609"
      },
      "execution_count": 32,
      "outputs": [
        {
          "output_type": "stream",
          "name": "stderr",
          "text": [
            "/usr/local/lib/python3.10/dist-packages/joblib/externals/loky/process_executor.py:752: UserWarning: A worker stopped while some jobs were given to the executor. This can be caused by a too short worker timeout or by a memory leak.\n",
            "  warnings.warn(\n"
          ]
        },
        {
          "output_type": "stream",
          "name": "stdout",
          "text": [
            "### Complete  VotingClassifier () ###\n",
            "정확도: 0.8206, f1-score:0.8117, Time: 1684.6157\n"
          ]
        }
      ]
    },
    {
      "cell_type": "markdown",
      "source": [
        "## SGDClassifier 하이퍼파라미터 튜닝"
      ],
      "metadata": {
        "id": "tq2zh-bnX0kw"
      }
    },
    {
      "cell_type": "code",
      "source": [
        "sgd_2 = SGDClassifier(random_state=42, n_jobs=-1,\n",
        "                      max_iter=100, average=100, tol=1e-1, warm_start=True)\n",
        "start_time = time.time()  # 시작 시간 기록\n",
        "sgd_2.fit(x_train_50p_tfidf, y_train_50p)\n",
        "pred = sgd_2.predict(x_test_50p_tfidf)\n",
        "end_time = time.time()  # 종료 시간 기록\n",
        "\n",
        "accuracy = accuracy_score(y_test_50p, pred)\n",
        "f1_ = f1_score(y_test_50p, pred, average='weighted')\n",
        "elapsed_time = end_time - start_time  # 실행 시간 계산\n",
        "\n",
        "print('### Complete ', sgd_2.__class__.__name__, '() ###')\n",
        "print(f'정확도: {accuracy:.4f}, f1-score:{f1_:.4f}, Time: {elapsed_time:.4f}')"
      ],
      "metadata": {
        "id": "Glznk0tD0-7N",
        "colab": {
          "base_uri": "https://localhost:8080/"
        },
        "outputId": "20ec5ff3-854a-4171-f70e-dcf55cb11090"
      },
      "execution_count": 157,
      "outputs": [
        {
          "output_type": "stream",
          "name": "stdout",
          "text": [
            "### Complete  SGDClassifier () ###\n",
            "정확도: 0.8459, f1-score:0.8397, Time: 2.4947\n"
          ]
        }
      ]
    },
    {
      "cell_type": "code",
      "source": [],
      "metadata": {
        "id": "Oic2zNtx1AOU"
      },
      "execution_count": null,
      "outputs": []
    }
  ]
}